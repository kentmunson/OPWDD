{
 "cells": [
  {
   "cell_type": "code",
   "execution_count": 1,
   "metadata": {},
   "outputs": [],
   "source": [
    "from torchtext import data\n",
    "import pandas as pd\n",
    "import torch"
   ]
  },
  {
   "cell_type": "code",
   "execution_count": 2,
   "metadata": {},
   "outputs": [],
   "source": [
    "TEXT = data.Field(sequential=True, tokenize='spacy', pad_first=True, lower=True)\n",
    "LABEL = data.LabelField(dtype = torch.float, use_vocab=False, sequential=False)"
   ]
  },
  {
   "cell_type": "code",
   "execution_count": 3,
   "metadata": {},
   "outputs": [
    {
     "name": "stdout",
     "output_type": "stream",
     "text": [
      "Index(['idx', 'DECISION', 'DISCUSSION', 'FINDINGS OF FACT', 'ISSUE', 'JUNK',\n",
      "       'target'],\n",
      "      dtype='object')\n"
     ]
    }
   ],
   "source": [
    "tr = pd.read_csv('train.csv')\n",
    "print(tr.columns)"
   ]
  },
  {
   "cell_type": "markdown",
   "metadata": {},
   "source": [
    "Below, we associate each column in the csvs with either `None`, `TEXT`, or `LABEL`, depending on which it is. `None` is for columns we don't actually use."
   ]
  },
  {
   "cell_type": "code",
   "execution_count": 4,
   "metadata": {},
   "outputs": [],
   "source": [
    "fields = [('idx', None),\n",
    "          ('DECISION', None),\n",
    "          ('DISCUSSION', TEXT),\n",
    "          ('FINDINGS OF FACT', None),\n",
    "          ('ISSUE', TEXT),\n",
    "          ('JUNK', None),\n",
    "          ('target', LABEL)]\n",
    "\n",
    "train, val = data.TabularDataset.splits(\n",
    "        format='csv', skip_header=True, path='./',\n",
    "        train='train.csv', validation='test.csv',\n",
    "        fields=fields)"
   ]
  },
  {
   "cell_type": "markdown",
   "metadata": {},
   "source": [
    "Here we load some pretrained vectors from Glove. They're 100 bits long, which we use later in `EMBEDDING_DIM`."
   ]
  },
  {
   "cell_type": "code",
   "execution_count": 5,
   "metadata": {},
   "outputs": [],
   "source": [
    "MAX_VOCAB_SIZE = 10_000\n",
    "\n",
    "TEXT.build_vocab(train,\n",
    "                 max_size = MAX_VOCAB_SIZE,\n",
    "                 vectors = 'glove.6B.100d',\n",
    "                 unk_init = torch.Tensor.normal_)\n",
    "\n",
    "LABEL.build_vocab(train)"
   ]
  },
  {
   "cell_type": "code",
   "execution_count": 6,
   "metadata": {},
   "outputs": [],
   "source": [
    "BATCH_SIZE = 64\n",
    "\n",
    "device = torch.device('cuda')\n",
    "\n",
    "train_iterator, valid_iterator = data.BucketIterator.splits(\n",
    "    (train, val), batch_size=BATCH_SIZE, device=device,\n",
    "    sort_key=lambda x: len(x.DISCUSSION))"
   ]
  },
  {
   "cell_type": "code",
   "execution_count": 7,
   "metadata": {},
   "outputs": [],
   "source": [
    "import torch.nn as nn\n",
    "import torch.nn.functional as F\n",
    "\n",
    "class FastText(nn.Module):\n",
    "    def __init__(self, vocab_size, embedding_dim, output_dim, pad_idx):\n",
    "        super().__init__()\n",
    "        self.embedding = nn.Embedding(vocab_size, embedding_dim, padding_idx=pad_idx)\n",
    "        self.fc = nn.Linear(embedding_dim, output_dim)\n",
    "        \n",
    "    def forward(self, text):\n",
    "        embedded = self.embedding(text)\n",
    "        embedded = embedded.permute(1, 0, 2)\n",
    "        pooled = F.avg_pool2d(embedded, (embedded.shape[1], 1)).squeeze(1)\n",
    "        return self.fc(pooled)"
   ]
  },
  {
   "cell_type": "code",
   "execution_count": 8,
   "metadata": {},
   "outputs": [],
   "source": [
    "INPUT_DIM = len(TEXT.vocab)\n",
    "EMBEDDING_DIM = 100 # GLOVE dimension\n",
    "OUTPUT_DIM = 1\n",
    "PAD_IDX = TEXT.vocab.stoi[TEXT.pad_token]\n",
    "\n",
    "model = FastText(INPUT_DIM, EMBEDDING_DIM, OUTPUT_DIM, PAD_IDX)"
   ]
  },
  {
   "cell_type": "code",
   "execution_count": 9,
   "metadata": {},
   "outputs": [
    {
     "name": "stdout",
     "output_type": "stream",
     "text": [
      "The model has 1000301 trainable parameters.\n"
     ]
    }
   ],
   "source": [
    "def count_params(model):\n",
    "    return sum(p.numel() for p in model.parameters() if p.requires_grad)\n",
    "\n",
    "print('The model has {} trainable parameters.'.format(count_params(model)))"
   ]
  },
  {
   "cell_type": "code",
   "execution_count": 10,
   "metadata": {},
   "outputs": [
    {
     "data": {
      "text/plain": [
       "tensor([[ 0.7052, -0.2839,  2.0560,  ...,  0.6116, -0.3029, -0.2810],\n",
       "        [-0.5656,  0.1957, -0.4377,  ..., -0.9350,  0.6534,  0.1831],\n",
       "        [-0.0796,  1.0425,  1.1980,  ..., -0.6556,  0.7965,  0.3770],\n",
       "        ...,\n",
       "        [ 0.3633,  0.2066,  0.1472,  ..., -0.5469, -0.6438,  0.2610],\n",
       "        [ 0.2173, -0.1686, -0.1560,  ...,  0.0951, -0.1963, -0.3810],\n",
       "        [ 1.8296, -1.0813,  0.2261,  ..., -0.5526, -1.4516,  0.6869]])"
      ]
     },
     "execution_count": 10,
     "metadata": {},
     "output_type": "execute_result"
    }
   ],
   "source": [
    "pretrained_embeddings = TEXT.vocab.vectors\n",
    "\n",
    "model.embedding.weight.data.copy_(pretrained_embeddings) # This is preloading these weights into the model?"
   ]
  },
  {
   "cell_type": "code",
   "execution_count": 11,
   "metadata": {},
   "outputs": [],
   "source": [
    "# Here we zero out the weights of UNK and PAD, so they can't affect our model\n",
    "UNK_IDX = TEXT.vocab.stoi[TEXT.unk_token]\n",
    "\n",
    "model.embedding.weight.data[UNK_IDX] = torch.zeros(EMBEDDING_DIM)\n",
    "model.embedding.weight.data[PAD_IDX] = torch.zeros(EMBEDDING_DIM)"
   ]
  },
  {
   "cell_type": "code",
   "execution_count": 12,
   "metadata": {},
   "outputs": [],
   "source": [
    "import torch.optim as optim\n",
    "\n",
    "optimizer = optim.Adam(model.parameters())\n",
    "\n",
    "criterion = nn.BCEWithLogitsLoss()\n",
    "\n",
    "model = model.to(device)\n",
    "criterion = criterion.to(device)"
   ]
  },
  {
   "cell_type": "code",
   "execution_count": 13,
   "metadata": {},
   "outputs": [],
   "source": [
    "import time\n",
    "\n",
    "def binary_accuracy(pr, y):\n",
    "    rounded_pr = torch.round(torch.sigmoid(pr))\n",
    "    correct = (rounded_pr == y).float()\n",
    "    acc = correct.sum() / len(correct)\n",
    "    return acc\n",
    "\n",
    "def train(model, iterator, optimizer, criterion):\n",
    "    epoch_loss = 0\n",
    "    epoch_acc = 0\n",
    "    \n",
    "    model.train() # what is this?\n",
    "    \n",
    "    for batch in iterator:\n",
    "        # the batch.X attribute names are from the column names above\n",
    "        optimizer.zero_grad()\n",
    "        pr = model(batch.DISCUSSION).squeeze(1) # WTH is squeeze?\n",
    "        loss = criterion(pr, batch.target)\n",
    "        acc = binary_accuracy(pr, batch.target)\n",
    "        \n",
    "        loss.backward()\n",
    "        optimizer.step()\n",
    "        \n",
    "        epoch_loss += loss.item()\n",
    "        epoch_acc += acc.item()\n",
    "        \n",
    "    return epoch_loss / len(iterator), epoch_acc / len(iterator)\n",
    "\n",
    "def evaluate(model, iterator, criterion):\n",
    "    epoch_loss = 0\n",
    "    epoch_acc = 0\n",
    "    \n",
    "    model.eval() # what is this?\n",
    "    \n",
    "    with torch.no_grad(): # and this?\n",
    "        for batch in iterator:\n",
    "            # the batch.X attribute names are from the column names above\n",
    "            pr = model(batch.DISCUSSION).squeeze(1)\n",
    "            loss = criterion(pr, batch.target)\n",
    "            acc = binary_accuracy(pr, batch.target)\n",
    "\n",
    "            epoch_loss += loss.item()\n",
    "            epoch_acc += acc.item()\n",
    "        \n",
    "    return epoch_loss / len(iterator), epoch_acc / len(iterator)\n",
    "\n",
    "def epoch_time(start_time, end_time):\n",
    "    elapsed_time = end_time - start_time\n",
    "    mins = int(elapsed_time / 60)\n",
    "    secs = int(elapsed_time % 60)\n",
    "    return mins, secs"
   ]
  },
  {
   "cell_type": "code",
   "execution_count": 14,
   "metadata": {},
   "outputs": [
    {
     "name": "stdout",
     "output_type": "stream",
     "text": [
      "Epoch: 0 | Epoch Time: 0m 1s\n",
      "\tTrain Loss: 0.683 | Train Acc: 0.660\n",
      "\tValid Loss: 0.640 | Valid Acc: 0.730\n",
      "Epoch: 1 | Epoch Time: 0m 1s\n",
      "\tTrain Loss: 0.667 | Train Acc: 0.666\n",
      "\tValid Loss: 0.605 | Valid Acc: 0.730\n",
      "Epoch: 2 | Epoch Time: 0m 1s\n",
      "\tTrain Loss: 0.661 | Train Acc: 0.666\n",
      "\tValid Loss: 0.586 | Valid Acc: 0.730\n",
      "Epoch: 3 | Epoch Time: 0m 1s\n",
      "\tTrain Loss: 0.654 | Train Acc: 0.664\n",
      "\tValid Loss: 0.577 | Valid Acc: 0.730\n",
      "Epoch: 4 | Epoch Time: 0m 1s\n",
      "\tTrain Loss: 0.652 | Train Acc: 0.664\n",
      "\tValid Loss: 0.573 | Valid Acc: 0.730\n",
      "Epoch: 5 | Epoch Time: 0m 1s\n",
      "\tTrain Loss: 0.651 | Train Acc: 0.665\n",
      "\tValid Loss: 0.572 | Valid Acc: 0.730\n",
      "Epoch: 6 | Epoch Time: 0m 1s\n",
      "\tTrain Loss: 0.648 | Train Acc: 0.663\n",
      "\tValid Loss: 0.570 | Valid Acc: 0.730\n"
     ]
    }
   ],
   "source": [
    "N_EPOCHS = 7\n",
    "best_valid_loss = float('inf')\n",
    "\n",
    "for e in range(N_EPOCHS):\n",
    "    start_time = time.time()\n",
    "    \n",
    "    train_loss, train_acc = train(model, train_iterator, optimizer, criterion)\n",
    "    valid_loss, valid_acc = evaluate(model, valid_iterator, criterion)\n",
    "    \n",
    "    end_time = time.time()\n",
    "    mins, secs = epoch_time(start_time, end_time)\n",
    "    \n",
    "    if valid_loss < best_valid_loss:\n",
    "        best_valid_loss = valid_loss\n",
    "        torch.save(model.state_dict(), 'tutorial_model.pt')\n",
    "        \n",
    "    print('Epoch: {} | Epoch Time: {}m {}s'.format(e, mins, secs))\n",
    "    print('\\tTrain Loss: {:.3f} | Train Acc: {:.3f}'.format(train_loss, train_acc))\n",
    "    print('\\tValid Loss: {:.3f} | Valid Acc: {:.3f}'.format(valid_loss, valid_acc))"
   ]
  },
  {
   "cell_type": "code",
   "execution_count": null,
   "metadata": {},
   "outputs": [],
   "source": []
  }
 ],
 "metadata": {
  "kernelspec": {
   "display_name": "Python 3",
   "language": "python",
   "name": "python3"
  },
  "language_info": {
   "codemirror_mode": {
    "name": "ipython",
    "version": 3
   },
   "file_extension": ".py",
   "mimetype": "text/x-python",
   "name": "python",
   "nbconvert_exporter": "python",
   "pygments_lexer": "ipython3",
   "version": "3.7.3"
  }
 },
 "nbformat": 4,
 "nbformat_minor": 2
}
